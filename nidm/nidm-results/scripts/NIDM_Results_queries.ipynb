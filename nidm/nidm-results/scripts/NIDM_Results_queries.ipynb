{
 "metadata": {
  "colabVersion": "0.1",
  "name": "",
  "signature": "sha256:cefc16573ac32cfeb3aaec474eb4270b0c904227334de5ed76899068ddf3b7aa"
 },
 "nbformat": 3,
 "nbformat_minor": 0,
 "worksheets": [
  {
   "cells": [
    {
     "cell_type": "code",
     "collapsed": false,
     "input": [
      "import rdflib\n",
      "# Function to allow pretty printing of search results (from Satra)\n",
      "def print_results(res):\n",
      "    for idx, row in enumerate(res.bindings):\n",
      "        rowfmt = []\n",
      "        print \"Item %d\" % idx\n",
      "        for key, val in sorted(row.items()):\n",
      "            rowfmt.append('%s-->%s' % (key, val.decode()))\n",
      "        print '\\n'.join(rowfmt)\n"
     ],
     "language": "python",
     "metadata": {},
     "outputs": [],
     "prompt_number": 12
    },
    {
     "cell_type": "code",
     "collapsed": false,
     "input": [
      "# Read NIDM example file (SPM)\n",
      "g_spm = rdflib.Graph()\n",
      "g_spm.parse('https://provenance.ecs.soton.ac.uk/store/documents/25890.ttl', format='turtle')\n",
      "# Read NIDM example file (FSL)\n",
      "g_fsl = rdflib.Graph()\n",
      "g_fsl.parse('https://provenance.ecs.soton.ac.uk/store/documents/25894.ttl', format='turtle')"
     ],
     "language": "python",
     "metadata": {},
     "outputs": [
      {
       "metadata": {},
       "output_type": "pyout",
       "prompt_number": 13,
       "text": [
        "<Graph identifier=N6c959635085748e09e0b23edeec2bb71 (<class 'rdflib.graph.Graph'>)>"
       ]
      }
     ],
     "prompt_number": 13
    },
    {
     "cell_type": "markdown",
     "metadata": {},
     "source": [
      "List all of the contrasts in this NIDM file"
     ]
    },
    {
     "cell_type": "markdown",
     "metadata": {},
     "source": [
      "For every contrast get a Z, T, or F map (NIFTI file) and the name of the contrast"
     ]
    },
    {
     "cell_type": "code",
     "collapsed": false,
     "input": [
      "import os\n",
      "\n",
      "file = open(os.path.join('..', 'query', 'get_contrasts.rq'), 'r')\n",
      "query = file.read();\n",
      "print \"----- Query ----- \"\n",
      "print query"
     ],
     "language": "python",
     "metadata": {
      "cellView": null,
      "executionInfo": null
     },
     "outputs": [
      {
       "output_type": "stream",
       "stream": "stdout",
       "text": [
        "----- Query ----- \n",
        "prefix prov: <http://www.w3.org/ns/prov#>\n",
        "prefix nidm: <http://www.incf.org/ns/nidash/nidm#>\n",
        "prefix spm: <http://www.incf.org/ns/nidash/spm#>\n",
        "prefix fsl: <http://www.incf.org/ns/nidash/fsl#>\n",
        "\n",
        "SELECT ?contrastName ?statType ?statFile WHERE {\n",
        " ?cid a nidm:ContrastMap ;\n",
        "      nidm:contrastName ?contrastName ;\n",
        "      prov:atLocation ?cfile .\n",
        " ?cea a nidm:ContrastEstimation .\n",
        " ?cid prov:wasGeneratedBy ?cea .\n",
        " ?sid a nidm:StatisticMap ;\n",
        "      nidm:statisticType ?statType ;\n",
        "      prov:atLocation ?statFile .\n",
        "}\n",
        "\n"
       ]
      }
     ],
     "prompt_number": 14
    },
    {
     "cell_type": "code",
     "collapsed": false,
     "input": [
      "print \"----- SPM Results ----- \"\n",
      "print_results(g_spm.query(query))\n",
      "print \"----- FSL Results ----- \"\n",
      "print_results(g_fsl.query(query))"
     ],
     "language": "python",
     "metadata": {},
     "outputs": [
      {
       "output_type": "stream",
       "stream": "stdout",
       "text": [
        "----- SPM Results ----- \n",
        "Item 0\n",
        "contrastName-->passive listening > rest\n",
        "statFile-->file://./TStatistic.nii.gz\n",
        "statType-->http://www.incf.org/ns/nidash/nidm#TStatistic\n",
        "----- FSL Results ----- \n",
        "Item 0"
       ]
      },
      {
       "output_type": "stream",
       "stream": "stdout",
       "text": [
        "\n",
        "contrastName-->listening &gt; rest\n",
        "statFile-->file:///path/to/ZStatistic.nii.gz\n",
        "statType-->http://www.incf.org/ns/nidash/nidm#ZStatistic\n",
        "Item 1\n",
        "contrastName-->listening &gt; rest\n",
        "statFile-->file:///path/to/TStatistic_0001.nii.gz\n",
        "statType-->http://www.incf.org/ns/nidash/nidm#TStatistic\n"
       ]
      }
     ],
     "prompt_number": 15
    },
    {
     "cell_type": "markdown",
     "metadata": {},
     "source": [
      "Get the mask of the study"
     ]
    },
    {
     "cell_type": "code",
     "collapsed": false,
     "input": [
      "file = open(os.path.join('..', 'query', 'get_mask.rq'), 'r')\n",
      "query = file.read();\n",
      "print \"----- Query ----- \"\n",
      "print query"
     ],
     "language": "python",
     "metadata": {},
     "outputs": [
      {
       "output_type": "stream",
       "stream": "stdout",
       "text": [
        "----- Query ----- \n",
        "prefix prov: <http://www.w3.org/ns/prov#>\n",
        "prefix nidm: <http://www.incf.org/ns/nidash/nidm#>\n",
        "prefix spm: <http://www.incf.org/ns/nidash/spm#>\n",
        "prefix fsl: <http://www.incf.org/ns/nidash/fsl#>\n",
        "\n",
        "SELECT ?maskLocation WHERE {\n",
        " ?cid a nidm:MaskMap ;\n",
        "     prov:atLocation ?maskLocation .\n",
        "}\n"
       ]
      }
     ],
     "prompt_number": 16
    },
    {
     "cell_type": "code",
     "collapsed": false,
     "input": [
      "print \"----- SPM Results ----- \"\n",
      "print_results(g_spm.query(query))\n",
      "print \"----- FSL Results ----- \"\n",
      "print_results(g_fsl.query(query))"
     ],
     "language": "python",
     "metadata": {},
     "outputs": [
      {
       "output_type": "stream",
       "stream": "stdout",
       "text": [
        "----- SPM Results ----- \n",
        "----- FSL Results ----- \n"
       ]
      }
     ],
     "prompt_number": 17
    },
    {
     "cell_type": "code",
     "collapsed": false,
     "input": [],
     "language": "python",
     "metadata": {},
     "outputs": []
    }
   ],
   "metadata": {}
  }
 ]
}