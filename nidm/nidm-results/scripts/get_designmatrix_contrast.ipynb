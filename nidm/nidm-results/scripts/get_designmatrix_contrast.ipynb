{
 "cells": [
  {
   "cell_type": "code",
   "execution_count": 1,
   "metadata": {
    "collapsed": false
   },
   "outputs": [
    {
     "ename": "ImportError",
     "evalue": "No module named rdflib",
     "output_type": "error",
     "traceback": [
      "\u001b[1;31m\u001b[0m",
      "\u001b[1;31mImportError\u001b[0mTraceback (most recent call last)",
      "\u001b[1;32m<ipython-input-1-412a02e718e3>\u001b[0m in \u001b[0;36m<module>\u001b[1;34m()\u001b[0m\n\u001b[0;32m      1\u001b[0m \u001b[1;32mimport\u001b[0m \u001b[0murllib2\u001b[0m\u001b[1;33m\u001b[0m\u001b[0m\n\u001b[1;32m----> 2\u001b[1;33m \u001b[1;32mimport\u001b[0m \u001b[0mrdflib\u001b[0m\u001b[1;33m\u001b[0m\u001b[0m\n\u001b[0m\u001b[0;32m      3\u001b[0m \u001b[1;33m\u001b[0m\u001b[0m\n\u001b[0;32m      4\u001b[0m \u001b[1;31m# NIDM-Results document on NeuroVault\u001b[0m\u001b[1;33m\u001b[0m\u001b[1;33m\u001b[0m\u001b[0m\n\u001b[0;32m      5\u001b[0m \u001b[0murl\u001b[0m \u001b[1;33m=\u001b[0m \u001b[1;34m'http://neurovault.org/collections/1435/spm_ds005_sub-01.nidm.ttl'\u001b[0m\u001b[1;33m\u001b[0m\u001b[0m\n",
      "\u001b[1;31mImportError\u001b[0m: No module named rdflib"
     ]
    }
   ],
   "source": [
    "import urllib2\n",
    "import rdflib\n",
    "\n",
    "# NIDM-Results document on NeuroVault\n",
    "url = 'http://neurovault.org/collections/1435/spm_ds005_sub-01.nidm.ttl'\n",
    "data = urllib2.urlopen(url)\n",
    "\n",
    "g = rdflib.Graph()\n",
    "g.parse(data, format=\"turtle\")\n",
    "\n",
    "# Retreive the design matrix as a csv file and the contrasts (name and vector)\n",
    "query = \"\"\"\n",
    "prefix prov: <http://www.w3.org/ns/prov#>\n",
    "prefix nidm_DesignMatrix: <http://purl.org/nidash/nidm#NIDM_0000019>\n",
    "prefix obo_contrastweightmatrix: <http://purl.obolibrary.org/obo/STATO_0000323>\n",
    "prefix nidm_contrastName: <http://purl.org/nidash/nidm#NIDM_0000085>\n",
    "\n",
    "    SELECT DISTINCT ?location ?conname ?convec WHERE {\n",
    "        ?design a nidm_DesignMatrix: ;\n",
    "            prov:atLocation ?location ;\n",
    "            dct:format \"text/csv\"^^xsd:string .\n",
    "        ?con_est prov:used/prov:wasGeneratedBy/prov:used ?design ;\n",
    "            prov:used ?contrast .\n",
    "        ?contrast a obo_contrastweightmatrix: ;\n",
    "            prov:value ?convec ;\n",
    "            nidm_contrastName: ?conname .\n",
    "        }\n",
    "\"\"\"\n",
    "contrasts = g.query(query)\n",
    "\n",
    "if contrasts:\n",
    "    for csv_file, conname, convec in contrasts:\n",
    "        print \"Contrast '\" + conname + \"': \" + convec\n",
    "        print \"Design matrix available at \" + csv_file\n",
    "        print \"---\"\n",
    "else:\n",
    "    print \"query failed!\"\n"
   ]
  }
 ],
 "metadata": {
  "kernelspec": {
   "display_name": "Python 2",
   "language": "python",
   "name": "python2"
  },
  "language_info": {
   "codemirror_mode": {
    "name": "ipython",
    "version": 2
   },
   "file_extension": ".py",
   "mimetype": "text/x-python",
   "name": "python",
   "nbconvert_exporter": "python",
   "pygments_lexer": "ipython2",
   "version": "2.7.11"
  },
  "widgets": {
   "state": {},
   "version": "1.1.2"
  }
 },
 "nbformat": 4,
 "nbformat_minor": 0
}
